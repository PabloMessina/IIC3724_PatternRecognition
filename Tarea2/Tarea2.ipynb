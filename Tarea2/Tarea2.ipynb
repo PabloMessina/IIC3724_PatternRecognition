{
 "cells": [
  {
   "cell_type": "markdown",
   "metadata": {},
   "source": [
    "### Import libraries to use"
   ]
  },
  {
   "cell_type": "code",
   "execution_count": 265,
   "metadata": {},
   "outputs": [],
   "source": [
    "from PIL import Image\n",
    "from skimage.feature import local_binary_pattern, hog, greycomatrix, greycoprops\n",
    "from skimage.filters import gabor_kernel\n",
    "from skimage import data\n",
    "from scipy import ndimage, linalg\n",
    "from tqdm import tqdm\n",
    "from heapq import heappush, heappushpop\n",
    "import numpy as np\n",
    "import glob\n",
    "import matplotlib.pyplot as plt\n",
    "import pandas as pd\n",
    "import seaborn as sn"
   ]
  },
  {
   "cell_type": "markdown",
   "metadata": {},
   "source": [
    "### Classes to extract features: LBP, HOG, Gabor, Haralick"
   ]
  },
  {
   "cell_type": "code",
   "execution_count": 150,
   "metadata": {},
   "outputs": [],
   "source": [
    "class LocalBinaryPatterns:\n",
    "    def __init__(self, P=8, R=2):\n",
    "        self.P = P\n",
    "        self.R = R\n",
    "        self.bins = np.arange(0, 60) - 0.5\n",
    "        self.bins[-1] = 255.5\n",
    "    def describe(self, image, eps=1e-7):\n",
    "        lbp = local_binary_pattern(image, self.P, self.R)\n",
    "        (hist, _) = np.histogram(lbp.ravel(), bins=self.bins)\n",
    "        hist = hist.astype(\"float\")\n",
    "        hist /= (hist.sum() + eps)\n",
    "        return hist\n",
    "\n",
    "class HOG:\n",
    "    def __init__(self, orientations=8, pixels_per_cell=(16,16), cells_per_block=(1,1)):\n",
    "        self.ori = orientations\n",
    "        self.ppc = pixels_per_cell\n",
    "        self.cpb = cells_per_block\n",
    "    def describe(self, image):        \n",
    "        return hog(image,\n",
    "                   orientations=self.ori,\n",
    "                   pixels_per_cell=self.ppc,\n",
    "                   cells_per_block=self.cpb, multichannel=True)\n",
    "\n",
    "class Gabor:\n",
    "    def __init__(self, theta_range=8, sigmas=(1,3), frequencies=(0.05, 0.25)):\n",
    "        kernels = []\n",
    "        for theta in range(theta_range):\n",
    "            theta = theta / 4. * np.pi\n",
    "            for sigma in sigmas:\n",
    "                for frequency in frequencies:\n",
    "                    kernel = np.real(gabor_kernel(frequency, theta=theta,\n",
    "                                                  sigma_x=sigma, sigma_y=sigma))\n",
    "                    kernels.append(kernel)\n",
    "        self.kernels = kernels\n",
    "    \n",
    "    def describe(self, image):\n",
    "        feats = np.zeros((len(self.kernels) * 2,), dtype=np.double)\n",
    "        for k, kernel in enumerate(self.kernels):\n",
    "            filtered = ndimage.convolve(image, kernel, mode='wrap')\n",
    "            feats[2*k] = filtered.mean()\n",
    "            feats[2*k+1] = filtered.var()\n",
    "        return feats\n",
    "    \n",
    "class Haralick:\n",
    "    def __init__(self, distances=(1,2,4), angles=(0, np.pi/4, np.pi/2, 3*np.pi/4)):\n",
    "        self.distances = distances\n",
    "        self.angles = angles\n",
    "        self.n = len(distances) * len(angles)\n",
    "        self.props = ('contrast', 'dissimilarity', 'homogeneity', 'ASM', 'energy', 'correlation')\n",
    "    def describe(self, image):\n",
    "        glcm = greycomatrix(image, distances=self.distances, angles=self.angles,\n",
    "                            levels=256, symmetric=True, normed=True)\n",
    "        feats = np.empty((self.n * 6,), dtype=np.double)\n",
    "        for i, prop in enumerate(self.props):\n",
    "            feats[i * self.n : (i+1) * self.n] = greycoprops(glcm, prop).ravel()\n",
    "        return feats"
   ]
  },
  {
   "cell_type": "markdown",
   "metadata": {},
   "source": [
    "### Function to extract features for each image in a given folder"
   ]
  },
  {
   "cell_type": "code",
   "execution_count": 164,
   "metadata": {},
   "outputs": [],
   "source": [
    "def extract_features(img_folder_path):\n",
    "    _lbp = LocalBinaryPatterns()\n",
    "    _hog = HOG()\n",
    "    _gabor = Gabor()\n",
    "    _haralick = Haralick()\n",
    "    featmat = None\n",
    "    img_paths = glob.glob(img_folder_path + '*.png')\n",
    "    print(img_folder_path, ': %d images found' % len(img_paths))\n",
    "    for i, imgpath in tqdm(enumerate(img_paths)):\n",
    "        img = Image.open(imgpath)\n",
    "        img_gray = img.convert('L')\n",
    "        lbp_feat = _lbp.describe(img_gray)\n",
    "        hog_feat = _hog.describe(img)\n",
    "        gab_feat = _gabor.describe(img_gray)\n",
    "        har_feat = _haralick.describe(np.asarray(img_gray).copy())\n",
    "        feat_list = (lbp_feat, hog_feat, gab_feat, har_feat)\n",
    "        feat_size = sum(len(x) for x in feat_list)\n",
    "        if featmat is None:\n",
    "            featmat = np.empty((len(img_paths), feat_size))\n",
    "            print(\"featmat.shape = \", featmat.shape)\n",
    "        offset = 0\n",
    "        for feat in feat_list:\n",
    "            featmat[i][offset:offset+len(feat)] = feat\n",
    "            offset += len(feat)\n",
    "    return featmat"
   ]
  },
  {
   "cell_type": "markdown",
   "metadata": {},
   "source": [
    "### Extract and save features for Testing_0"
   ]
  },
  {
   "cell_type": "code",
   "execution_count": 165,
   "metadata": {},
   "outputs": [
    {
     "name": "stderr",
     "output_type": "stream",
     "text": [
      "2it [00:00, 11.36it/s]"
     ]
    },
    {
     "name": "stdout",
     "output_type": "stream",
     "text": [
      "./Testing_0/ : 1000 images found\n",
      "featmat.shape =  (1000, 323)\n"
     ]
    },
    {
     "name": "stderr",
     "output_type": "stream",
     "text": [
      "1000it [01:21, 12.23it/s]\n"
     ]
    }
   ],
   "source": [
    "feat_testing_0 = extract_features('./Testing_0/')"
   ]
  },
  {
   "cell_type": "code",
   "execution_count": 171,
   "metadata": {},
   "outputs": [],
   "source": [
    "np.save('feat_testing_0.npy', feat_testing_0)"
   ]
  },
  {
   "cell_type": "markdown",
   "metadata": {},
   "source": [
    "### Extract and save features for Testing_1"
   ]
  },
  {
   "cell_type": "code",
   "execution_count": 172,
   "metadata": {},
   "outputs": [
    {
     "name": "stderr",
     "output_type": "stream",
     "text": [
      "2it [00:00, 10.98it/s]"
     ]
    },
    {
     "name": "stdout",
     "output_type": "stream",
     "text": [
      "./Testing_1/ : 1000 images found\n",
      "featmat.shape =  (1000, 323)\n"
     ]
    },
    {
     "name": "stderr",
     "output_type": "stream",
     "text": [
      "1000it [01:21, 12.21it/s]\n"
     ]
    }
   ],
   "source": [
    "feat_testing_1 = extract_features('./Testing_1/')"
   ]
  },
  {
   "cell_type": "code",
   "execution_count": 173,
   "metadata": {},
   "outputs": [],
   "source": [
    "np.save('feat_testing_1.npy', feat_testing_1)"
   ]
  },
  {
   "cell_type": "markdown",
   "metadata": {},
   "source": [
    "### Extract and save features for Training_0"
   ]
  },
  {
   "cell_type": "code",
   "execution_count": 174,
   "metadata": {},
   "outputs": [
    {
     "name": "stderr",
     "output_type": "stream",
     "text": [
      "2it [00:00, 11.13it/s]"
     ]
    },
    {
     "name": "stdout",
     "output_type": "stream",
     "text": [
      "./Training_0/ : 4000 images found\n",
      "featmat.shape =  (4000, 323)\n"
     ]
    },
    {
     "name": "stderr",
     "output_type": "stream",
     "text": [
      "4000it [05:27, 12.22it/s]\n"
     ]
    }
   ],
   "source": [
    "feat_training_0 = extract_features('./Training_0/')"
   ]
  },
  {
   "cell_type": "code",
   "execution_count": 175,
   "metadata": {},
   "outputs": [],
   "source": [
    "np.save('feat_training_0.npy', feat_training_0)"
   ]
  },
  {
   "cell_type": "markdown",
   "metadata": {},
   "source": [
    "### Extract and save features for Training_1"
   ]
  },
  {
   "cell_type": "code",
   "execution_count": 176,
   "metadata": {},
   "outputs": [
    {
     "name": "stderr",
     "output_type": "stream",
     "text": [
      "2it [00:00, 11.84it/s]"
     ]
    },
    {
     "name": "stdout",
     "output_type": "stream",
     "text": [
      "./Training_1/ : 4000 images found\n",
      "featmat.shape =  (4000, 323)\n"
     ]
    },
    {
     "name": "stderr",
     "output_type": "stream",
     "text": [
      "4000it [05:27, 12.23it/s]\n"
     ]
    }
   ],
   "source": [
    "feat_training_1 = extract_features('./Training_1/')"
   ]
  },
  {
   "cell_type": "code",
   "execution_count": 177,
   "metadata": {},
   "outputs": [],
   "source": [
    "np.save('feat_training_1.npy', feat_training_1)"
   ]
  },
  {
   "cell_type": "markdown",
   "metadata": {},
   "source": [
    "### Load saved features"
   ]
  },
  {
   "cell_type": "code",
   "execution_count": 179,
   "metadata": {},
   "outputs": [],
   "source": [
    "feat_train_0 = np.load('./feat_training_0.npy')\n",
    "feat_train_1 = np.load('./feat_training_1.npy')\n",
    "feat_test_0 = np.load('./feat_testing_0.npy')\n",
    "feat_test_1 = np.load('./feat_testing_1.npy')"
   ]
  },
  {
   "cell_type": "markdown",
   "metadata": {},
   "source": [
    "### Classifier that transforms and selects features with PCA and classifies with KNN"
   ]
  },
  {
   "cell_type": "code",
   "execution_count": 250,
   "metadata": {},
   "outputs": [],
   "source": [
    "class PCA_KNN_Classifier:\n",
    "    def __init__(self, feat_train_0, feat_train_1):\n",
    "        \n",
    "        # concatenate features\n",
    "        train_feat = np.concatenate((feat_train_0, feat_train_1), axis=0)\n",
    "        # mean\n",
    "        self.feat_mean = train_feat.mean(0)\n",
    "        # std\n",
    "        self.feat_std = train_feat.std(0)\n",
    "        # z-score normalization\n",
    "        train_feat = (train_feat - self.feat_mean) / self.feat_std\n",
    "        \n",
    "        # PCA transformation\n",
    "        cov = np.cov(train_feat, rowvar = False)\n",
    "        evals , evecs = linalg.eigh(cov)\n",
    "        idx = np.argsort(evals)[::-1]\n",
    "        self.evecs = evecs[:,idx]\n",
    "        self.evals = evals[idx]\n",
    "        self.train_feat = np.dot(train_feat, self.evecs) \n",
    "        \n",
    "        # train labels\n",
    "        n = train_feat.shape[0]\n",
    "        train_class = np.ones((n,), dtype=np.uint8)\n",
    "        train_class[0:n//2] = 0\n",
    "        self.train_class = train_class\n",
    "        \n",
    "    def classify(self, X, dist_func, pca_dim=20, k=3):\n",
    "        # z-score normalize X\n",
    "        X = (X - self.feat_mean) / self.feat_std\n",
    "        # transform with PCA and select first 'pca_dim' features\n",
    "        X = np.dot(X.reshape(1,-1), self.evecs).reshape(-1)[:pca_dim]\n",
    "        # classify with KNN\n",
    "        h = []\n",
    "        for i in range(self.train_feat.shape[0]):\n",
    "            t = (-dist_func(self.train_feat[i][:pca_dim], X), self.train_class[i])\n",
    "            if len(h) < k:\n",
    "                heappush(h, t)\n",
    "            else:\n",
    "                heappushpop(h, t)\n",
    "        counts = [0, 0]\n",
    "        for _, c in h:\n",
    "            counts[c] += 1\n",
    "        return 0 if counts[0] >= counts[1] else 1"
   ]
  },
  {
   "cell_type": "markdown",
   "metadata": {},
   "source": [
    "### Init classifier"
   ]
  },
  {
   "cell_type": "code",
   "execution_count": 251,
   "metadata": {},
   "outputs": [],
   "source": [
    "classifier = PCA_KNN_Classifier(feat_train_0, feat_train_1)"
   ]
  },
  {
   "cell_type": "markdown",
   "metadata": {},
   "source": [
    "### Distance functions"
   ]
  },
  {
   "cell_type": "code",
   "execution_count": 258,
   "metadata": {},
   "outputs": [],
   "source": [
    "def square_euclidean_distance(x, y):\n",
    "    return ((x - y)**2).sum()\n",
    "\n",
    "def cosine_distance(x, y):\n",
    "    return -np.dot(x, y) / (linalg.norm(x) * linalg.norm(y))"
   ]
  },
  {
   "cell_type": "markdown",
   "metadata": {},
   "source": [
    "### Function to calculate accuracy"
   ]
  },
  {
   "cell_type": "code",
   "execution_count": 259,
   "metadata": {},
   "outputs": [],
   "source": [
    "def get_accuracy(classifier, feat_test_0, feat_test_1, dist_func, pca_dim, k):\n",
    "    correct = 0\n",
    "    for i in range(feat_test_0.shape[0]):\n",
    "        correct += classifier.classify(feat_test_0[i], dist_func, pca_dim, k) == 0\n",
    "    for i in range(feat_test_1.shape[0]):\n",
    "        correct += classifier.classify(feat_test_1[i], dist_func, pca_dim, k) == 1\n",
    "    return correct / (feat_test_0.shape[0] + feat_test_1.shape[0])"
   ]
  },
  {
   "cell_type": "markdown",
   "metadata": {},
   "source": [
    "### Find best distance function and PCA dimension"
   ]
  },
  {
   "cell_type": "code",
   "execution_count": 261,
   "metadata": {},
   "outputs": [
    {
     "name": "stdout",
     "output_type": "stream",
     "text": [
      "---- pca_dim = 2, dist_name = cosine ---\n",
      "\taccuracy = 0.721\n",
      "---- pca_dim = 2, dist_name = euclidean ---\n",
      "\taccuracy = 0.7865\n",
      "---- pca_dim = 5, dist_name = cosine ---\n",
      "\taccuracy = 0.8645\n",
      "---- pca_dim = 5, dist_name = euclidean ---\n",
      "\taccuracy = 0.906\n",
      "---- pca_dim = 10, dist_name = cosine ---\n",
      "\taccuracy = 0.916\n",
      "---- pca_dim = 10, dist_name = euclidean ---\n",
      "\taccuracy = 0.9415\n",
      "---- pca_dim = 20, dist_name = cosine ---\n",
      "\taccuracy = 0.931\n",
      "---- pca_dim = 20, dist_name = euclidean ---\n",
      "\taccuracy = 0.955\n",
      "---- pca_dim = 35, dist_name = cosine ---\n",
      "\taccuracy = 0.933\n",
      "---- pca_dim = 35, dist_name = euclidean ---\n",
      "\taccuracy = 0.9465\n",
      "---- pca_dim = 50, dist_name = cosine ---\n",
      "\taccuracy = 0.923\n",
      "---- pca_dim = 50, dist_name = euclidean ---\n",
      "\taccuracy = 0.9475\n"
     ]
    }
   ],
   "source": [
    "for pca_dim in (2, 5, 10, 20, 35, 50):\n",
    "    for dist_func, dist_name in zip((cosine_distance, square_euclidean_distance), ('cosine', 'euclidean')):\n",
    "        print('---- pca_dim = %d, dist_name = %s ---' % (pca_dim, dist_name))\n",
    "        print('\\taccuracy =', get_accuracy(classifier, feat_test_0, feat_test_1, dist_func, pca_dim, 3))"
   ]
  },
  {
   "cell_type": "code",
   "execution_count": 262,
   "metadata": {},
   "outputs": [
    {
     "name": "stdout",
     "output_type": "stream",
     "text": [
      "---- pca_dim = 15, dist_name = euclidean ---\n",
      "\taccuracy = 0.956\n",
      "---- pca_dim = 18, dist_name = euclidean ---\n",
      "\taccuracy = 0.957\n",
      "---- pca_dim = 22, dist_name = euclidean ---\n",
      "\taccuracy = 0.9545\n",
      "---- pca_dim = 25, dist_name = euclidean ---\n",
      "\taccuracy = 0.955\n"
     ]
    }
   ],
   "source": [
    "for pca_dim in (15, 18, 22, 25):\n",
    "    print('---- pca_dim = %d, dist_name = euclidean ---' % pca_dim)\n",
    "    print('\\taccuracy =', get_accuracy(classifier, feat_test_0, feat_test_1, square_euclidean_distance, pca_dim, 3))"
   ]
  },
  {
   "cell_type": "code",
   "execution_count": 263,
   "metadata": {},
   "outputs": [
    {
     "name": "stdout",
     "output_type": "stream",
     "text": [
      "---- pca_dim = 19, dist_name = euclidean ---\n",
      "\taccuracy = 0.9545\n",
      "---- pca_dim = 21, dist_name = euclidean ---\n",
      "\taccuracy = 0.9545\n"
     ]
    }
   ],
   "source": [
    "for pca_dim in (19, 21):\n",
    "    print('---- pca_dim = %d, dist_name = euclidean ---' % pca_dim)\n",
    "    print('\\taccuracy =', get_accuracy(classifier, feat_test_0, feat_test_1, square_euclidean_distance, pca_dim, 3))"
   ]
  },
  {
   "cell_type": "markdown",
   "metadata": {},
   "source": [
    "### Function to plot confusion matrix"
   ]
  },
  {
   "cell_type": "code",
   "execution_count": 281,
   "metadata": {},
   "outputs": [],
   "source": [
    "def plot_confusion_matrix(y_test, y_pred, figsize=(10,7)):\n",
    "    n = 2\n",
    "    matrix = np.zeros((n,n),dtype=np.int32)\n",
    "    for a, b in zip(y_test, y_pred):\n",
    "        matrix[a][b] += 1\n",
    "    classes = ('LIMPIO', 'RAYADO')\n",
    "    df_cm = pd.DataFrame(matrix, index = classes, columns = classes)\n",
    "    plt.figure(figsize = figsize)\n",
    "    sn.heatmap(df_cm, annot=True, fmt='g')"
   ]
  },
  {
   "cell_type": "markdown",
   "metadata": {},
   "source": [
    "### Function to get list of individual class predictions"
   ]
  },
  {
   "cell_type": "code",
   "execution_count": 275,
   "metadata": {},
   "outputs": [],
   "source": [
    "def get_predictions(classifier, feat_test_0, feat_test_1, dist_func, pca_dim, k):\n",
    "    n0 = feat_test_0.shape[0]\n",
    "    n1 = feat_test_1.shape[0]\n",
    "    pred = [None] * (n0 + n1)\n",
    "    for i in range(n0):\n",
    "        pred[i] = classifier.classify(feat_test_0[i], dist_func, pca_dim, k)\n",
    "    for i in range(n1):\n",
    "        pred[n0 + i] = classifier.classify(feat_test_1[i], dist_func, pca_dim, k)\n",
    "    return pred"
   ]
  },
  {
   "cell_type": "markdown",
   "metadata": {},
   "source": [
    "### Get predictions, accuracy and confusion matrix for best version"
   ]
  },
  {
   "cell_type": "code",
   "execution_count": 276,
   "metadata": {},
   "outputs": [],
   "source": [
    "best_pred = get_predictions(classifier, feat_test_0, feat_test_1, square_euclidean_distance, 18, 3)"
   ]
  },
  {
   "cell_type": "code",
   "execution_count": 277,
   "metadata": {},
   "outputs": [],
   "source": [
    "test_labels = [0] * feat_test_0.shape[0] + [1] * feat_test_1.shape[0]"
   ]
  },
  {
   "cell_type": "code",
   "execution_count": 279,
   "metadata": {},
   "outputs": [
    {
     "data": {
      "text/plain": [
       "0.957"
      ]
     },
     "execution_count": 279,
     "metadata": {},
     "output_type": "execute_result"
    }
   ],
   "source": [
    "sum(x == y for x, y in zip(best_pred, test_labels)) / len(test_labels)"
   ]
  },
  {
   "cell_type": "code",
   "execution_count": 282,
   "metadata": {},
   "outputs": [
    {
     "data": {
      "image/png": "[encoded data removed]",
      "text/plain": [
       "<Figure size 720x504 with 2 Axes>"
      ]
     },
     "metadata": {
      "needs_background": "light"
     },
     "output_type": "display_data"
    }
   ],
   "source": [
    "plot_confusion_matrix(test_labels, best_pred)"
   ]
  }
 ],
 "metadata": {
  "kernelspec": {
   "display_name": "Python 3",
   "language": "python",
   "name": "python3"
  },
  "language_info": {
   "codemirror_mode": {
    "name": "ipython",
    "version": 3
   },
   "file_extension": ".py",
   "mimetype": "text/x-python",
   "name": "python",
   "nbconvert_exporter": "python",
   "pygments_lexer": "ipython3",
   "version": "3.6.9"
  }
 },
 "nbformat": 4,
 "nbformat_minor": 4
}
